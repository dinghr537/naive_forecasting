{
 "cells": [
  {
   "cell_type": "code",
   "execution_count": 1,
   "id": "secure-giant",
   "metadata": {},
   "outputs": [],
   "source": [
    "import pandas as pd\n",
    "import numpy as np"
   ]
  },
  {
   "cell_type": "code",
   "execution_count": 2,
   "id": "graphic-florida",
   "metadata": {},
   "outputs": [],
   "source": [
    "data2020 = pd.read_csv('2020.csv')"
   ]
  },
  {
   "cell_type": "code",
   "execution_count": 3,
   "id": "korean-development",
   "metadata": {},
   "outputs": [],
   "source": [
    "realdata2020 = data2020.iloc[0:366]"
   ]
  },
  {
   "cell_type": "code",
   "execution_count": 4,
   "id": "geological-mainland",
   "metadata": {},
   "outputs": [],
   "source": [
    "rs2020 = realdata2020['備轉容量(MW)'].to_frame()\n",
    "rs2020 = rs2020.rename(columns={'備轉容量(MW)':'data'})"
   ]
  },
  {
   "cell_type": "code",
   "execution_count": 5,
   "id": "legislative-music",
   "metadata": {},
   "outputs": [],
   "source": [
    "data2021 = pd.read_csv('2021.csv')"
   ]
  },
  {
   "cell_type": "code",
   "execution_count": 6,
   "id": "greenhouse-former",
   "metadata": {},
   "outputs": [],
   "source": [
    "rs2021 = (data2021['備轉容量(萬瓩)'] * 10).to_frame()\n",
    "rs2021 = rs2021.rename(columns={'備轉容量(萬瓩)':'data'})"
   ]
  },
  {
   "cell_type": "code",
   "execution_count": 7,
   "id": "turkish-franchise",
   "metadata": {},
   "outputs": [],
   "source": [
    "rs = rs2020.append(rs2021)"
   ]
  },
  {
   "cell_type": "code",
   "execution_count": 8,
   "id": "precise-australian",
   "metadata": {},
   "outputs": [
    {
     "name": "stdout",
     "output_type": "stream",
     "text": [
      "(446, 1)\n"
     ]
    }
   ],
   "source": [
    "print(rs.shape)"
   ]
  },
  {
   "cell_type": "code",
   "execution_count": 9,
   "id": "compatible-transcript",
   "metadata": {},
   "outputs": [],
   "source": [
    "from sklearn.preprocessing import MinMaxScaler\n",
    "scaler = MinMaxScaler(feature_range=(0, 1))\n",
    "train_norm = scaler.fit_transform(rs)"
   ]
  },
  {
   "cell_type": "code",
   "execution_count": 10,
   "id": "injured-aurora",
   "metadata": {},
   "outputs": [],
   "source": [
    "train_norm = pd.DataFrame(train_norm)"
   ]
  },
  {
   "cell_type": "code",
   "execution_count": 11,
   "id": "logical-catering",
   "metadata": {},
   "outputs": [],
   "source": [
    "def generate_data(train):\n",
    "    X_train, Y_train = [], []\n",
    "    for i in range(train.shape[0]-38):\n",
    "        X_train.append(np.array(train.iloc[i:i+30]))\n",
    "        Y_train.append(np.array(train.iloc[i+30:i+38]))\n",
    "    return np.array(X_train), np.array(Y_train)\n",
    "# use last 30 days to predict next 8 days\n",
    "X_train, Y_train = generate_data(train_norm)"
   ]
  },
  {
   "cell_type": "code",
   "execution_count": 44,
   "id": "streaming-digest",
   "metadata": {},
   "outputs": [],
   "source": [
    "# def shuffle(X,Y):\n",
    "#     np.random.seed(10)\n",
    "#     randomList = np.arange(X.shape[0])\n",
    "#     np.random.shuffle(randomList)\n",
    "#     return X[randomList], Y[randomList]\n",
    "# # shuffle the data, and random seed is 10\n",
    "# X_train, Y_train = shuffle(X_train, Y_train)"
   ]
  },
  {
   "cell_type": "code",
   "execution_count": 12,
   "id": "surprising-saudi",
   "metadata": {},
   "outputs": [],
   "source": [
    "# import what we need for building the model\n",
    "# 參考網路上lstm模型的構建方法，且暫未對模型各層級進行調整\n",
    "from keras.models import Sequential,Model\n",
    "from keras.layers import Dense, Dropout, Activation, Flatten, LSTM, TimeDistributed, RepeatVector,Input\n",
    "from keras.optimizers import Adam\n",
    "from keras.callbacks import EarlyStopping, ModelCheckpoint\n",
    "from keras.utils import to_categorical\n",
    "from sklearn.preprocessing import MinMaxScaler\n",
    "from sklearn.metrics import mean_squared_error\n",
    "from keras.models import load_model\n",
    "\n",
    "def lstm_model(shape):\n",
    "    model = Sequential()\n",
    "    model.add(LSTM(256, input_shape=(shape[1], shape[2]), return_sequences=True))\n",
    "    model.add(LSTM(256, return_sequences=True))\n",
    "    model.add(TimeDistributed(Dense(1)))\n",
    "    model.add(Flatten())\n",
    "    model.add(Dense(30,activation='linear'))\n",
    "    model.add(Dense(8,activation='linear'))\n",
    "    model.compile(loss=\"mean_absolute_error\", optimizer=\"adam\",metrics=['mean_absolute_error', 'accuracy'])\n",
    "    model.summary()\n",
    "    return model"
   ]
  },
  {
   "cell_type": "code",
   "execution_count": 13,
   "id": "working-business",
   "metadata": {},
   "outputs": [
    {
     "name": "stdout",
     "output_type": "stream",
     "text": [
      "Model: \"sequential\"\n",
      "_________________________________________________________________\n",
      "Layer (type)                 Output Shape              Param #   \n",
      "=================================================================\n",
      "lstm (LSTM)                  (None, 30, 256)           264192    \n",
      "_________________________________________________________________\n",
      "lstm_1 (LSTM)                (None, 30, 256)           525312    \n",
      "_________________________________________________________________\n",
      "time_distributed (TimeDistri (None, 30, 1)             257       \n",
      "_________________________________________________________________\n",
      "flatten (Flatten)            (None, 30)                0         \n",
      "_________________________________________________________________\n",
      "dense_1 (Dense)              (None, 30)                930       \n",
      "_________________________________________________________________\n",
      "dense_2 (Dense)              (None, 8)                 248       \n",
      "=================================================================\n",
      "Total params: 790,939\n",
      "Trainable params: 790,939\n",
      "Non-trainable params: 0\n",
      "_________________________________________________________________\n"
     ]
    }
   ],
   "source": [
    "model = lstm_model(X_train.shape)"
   ]
  },
  {
   "cell_type": "code",
   "execution_count": 14,
   "id": "jewish-filling",
   "metadata": {},
   "outputs": [
    {
     "name": "stdout",
     "output_type": "stream",
     "text": [
      "(408, 8, 1)\n"
     ]
    }
   ],
   "source": [
    "print(Y_train.shape)"
   ]
  },
  {
   "cell_type": "code",
   "execution_count": 15,
   "id": "mediterranean-consultancy",
   "metadata": {},
   "outputs": [],
   "source": [
    "Y_train = Y_train.reshape([408,8])"
   ]
  },
  {
   "cell_type": "code",
   "execution_count": 17,
   "id": "alternative-heath",
   "metadata": {},
   "outputs": [
    {
     "name": "stdout",
     "output_type": "stream",
     "text": [
      "Model: \"sequential_1\"\n",
      "_________________________________________________________________\n",
      "Layer (type)                 Output Shape              Param #   \n",
      "=================================================================\n",
      "lstm_2 (LSTM)                (None, 30, 256)           264192    \n",
      "_________________________________________________________________\n",
      "lstm_3 (LSTM)                (None, 30, 256)           525312    \n",
      "_________________________________________________________________\n",
      "time_distributed_1 (TimeDist (None, 30, 1)             257       \n",
      "_________________________________________________________________\n",
      "flatten_1 (Flatten)          (None, 30)                0         \n",
      "_________________________________________________________________\n",
      "dense_4 (Dense)              (None, 30)                930       \n",
      "_________________________________________________________________\n",
      "dense_5 (Dense)              (None, 8)                 248       \n",
      "=================================================================\n",
      "Total params: 790,939\n",
      "Trainable params: 790,939\n",
      "Non-trainable params: 0\n",
      "_________________________________________________________________\n",
      "Epoch 1/200\n",
      "74/74 [==============================] - 7s 55ms/step - loss: 0.2639 - mean_absolute_error: 0.2639 - accuracy: 0.1745 - val_loss: 0.1323 - val_mean_absolute_error: 0.1323 - val_accuracy: 0.1463\n",
      "Epoch 2/200\n",
      "74/74 [==============================] - 3s 47ms/step - loss: 0.1503 - mean_absolute_error: 0.1503 - accuracy: 0.1503 - val_loss: 0.0777 - val_mean_absolute_error: 0.0777 - val_accuracy: 0.1463\n",
      "Epoch 3/200\n",
      "74/74 [==============================] - 4s 49ms/step - loss: 0.1465 - mean_absolute_error: 0.1465 - accuracy: 0.1289 - val_loss: 0.0766 - val_mean_absolute_error: 0.0766 - val_accuracy: 0.1463\n",
      "Epoch 4/200\n",
      "74/74 [==============================] - 3s 46ms/step - loss: 0.1417 - mean_absolute_error: 0.1417 - accuracy: 0.1175 - val_loss: 0.0586 - val_mean_absolute_error: 0.0586 - val_accuracy: 0.0976\n",
      "Epoch 5/200\n",
      "74/74 [==============================] - 3s 46ms/step - loss: 0.1435 - mean_absolute_error: 0.1435 - accuracy: 0.1338 - val_loss: 0.0642 - val_mean_absolute_error: 0.0642 - val_accuracy: 0.1463\n",
      "Epoch 6/200\n",
      "74/74 [==============================] - 3s 45ms/step - loss: 0.1289 - mean_absolute_error: 0.1289 - accuracy: 0.1594 - val_loss: 0.0630 - val_mean_absolute_error: 0.0630 - val_accuracy: 0.0976\n",
      "Epoch 7/200\n",
      "74/74 [==============================] - 3s 46ms/step - loss: 0.1326 - mean_absolute_error: 0.1326 - accuracy: 0.1342 - val_loss: 0.0643 - val_mean_absolute_error: 0.0643 - val_accuracy: 0.1707\n",
      "Epoch 8/200\n",
      "74/74 [==============================] - 3s 45ms/step - loss: 0.1307 - mean_absolute_error: 0.1307 - accuracy: 0.1419 - val_loss: 0.0640 - val_mean_absolute_error: 0.0640 - val_accuracy: 0.0732\n",
      "Epoch 9/200\n",
      "74/74 [==============================] - 3s 44ms/step - loss: 0.1296 - mean_absolute_error: 0.1296 - accuracy: 0.1383 - val_loss: 0.0657 - val_mean_absolute_error: 0.0657 - val_accuracy: 0.1220\n",
      "Epoch 10/200\n",
      "74/74 [==============================] - 4s 53ms/step - loss: 0.1298 - mean_absolute_error: 0.1298 - accuracy: 0.1434 - val_loss: 0.0632 - val_mean_absolute_error: 0.0632 - val_accuracy: 0.1951\n",
      "Epoch 11/200\n",
      "74/74 [==============================] - 4s 48ms/step - loss: 0.1284 - mean_absolute_error: 0.1284 - accuracy: 0.1330 - val_loss: 0.0584 - val_mean_absolute_error: 0.0584 - val_accuracy: 0.0732\n",
      "Epoch 12/200\n",
      "74/74 [==============================] - 4s 48ms/step - loss: 0.1367 - mean_absolute_error: 0.1367 - accuracy: 0.1578 - val_loss: 0.0645 - val_mean_absolute_error: 0.0645 - val_accuracy: 0.0488\n",
      "Epoch 13/200\n",
      "74/74 [==============================] - 4s 48ms/step - loss: 0.1239 - mean_absolute_error: 0.1239 - accuracy: 0.1717 - val_loss: 0.0591 - val_mean_absolute_error: 0.0591 - val_accuracy: 0.0488\n",
      "Epoch 14/200\n",
      "74/74 [==============================] - 3s 44ms/step - loss: 0.1270 - mean_absolute_error: 0.1270 - accuracy: 0.1863 - val_loss: 0.0648 - val_mean_absolute_error: 0.0648 - val_accuracy: 0.0976\n",
      "Epoch 15/200\n",
      "74/74 [==============================] - 3s 45ms/step - loss: 0.1329 - mean_absolute_error: 0.1329 - accuracy: 0.1414 - val_loss: 0.0652 - val_mean_absolute_error: 0.0652 - val_accuracy: 0.0976\n",
      "Epoch 16/200\n",
      "74/74 [==============================] - 3s 46ms/step - loss: 0.1233 - mean_absolute_error: 0.1233 - accuracy: 0.1264 - val_loss: 0.0683 - val_mean_absolute_error: 0.0683 - val_accuracy: 0.1220\n",
      "Epoch 17/200\n",
      "74/74 [==============================] - 3s 46ms/step - loss: 0.1247 - mean_absolute_error: 0.1247 - accuracy: 0.1963 - val_loss: 0.0577 - val_mean_absolute_error: 0.0577 - val_accuracy: 0.1951\n",
      "Epoch 18/200\n",
      "74/74 [==============================] - 3s 46ms/step - loss: 0.1299 - mean_absolute_error: 0.1299 - accuracy: 0.1643 - val_loss: 0.0559 - val_mean_absolute_error: 0.0559 - val_accuracy: 0.0488\n",
      "Epoch 19/200\n",
      "74/74 [==============================] - 3s 46ms/step - loss: 0.1248 - mean_absolute_error: 0.1248 - accuracy: 0.1750 - val_loss: 0.0628 - val_mean_absolute_error: 0.0628 - val_accuracy: 0.0732\n",
      "Epoch 20/200\n",
      "74/74 [==============================] - 3s 44ms/step - loss: 0.1249 - mean_absolute_error: 0.1249 - accuracy: 0.1925 - val_loss: 0.0578 - val_mean_absolute_error: 0.0578 - val_accuracy: 0.0976\n",
      "Epoch 21/200\n",
      "74/74 [==============================] - 3s 44ms/step - loss: 0.1280 - mean_absolute_error: 0.1280 - accuracy: 0.1680 - val_loss: 0.0578 - val_mean_absolute_error: 0.0578 - val_accuracy: 0.0732\n",
      "Epoch 22/200\n",
      "74/74 [==============================] - 3s 47ms/step - loss: 0.1280 - mean_absolute_error: 0.1280 - accuracy: 0.1965 - val_loss: 0.0571 - val_mean_absolute_error: 0.0571 - val_accuracy: 0.0976\n",
      "Epoch 23/200\n",
      "74/74 [==============================] - 3s 46ms/step - loss: 0.1196 - mean_absolute_error: 0.1196 - accuracy: 0.1499 - val_loss: 0.0575 - val_mean_absolute_error: 0.0575 - val_accuracy: 0.0732\n",
      "Epoch 24/200\n",
      "74/74 [==============================] - 3s 46ms/step - loss: 0.1310 - mean_absolute_error: 0.1310 - accuracy: 0.1827 - val_loss: 0.0591 - val_mean_absolute_error: 0.0591 - val_accuracy: 0.0488\n",
      "Epoch 25/200\n",
      "74/74 [==============================] - 3s 47ms/step - loss: 0.1192 - mean_absolute_error: 0.1192 - accuracy: 0.1685 - val_loss: 0.0671 - val_mean_absolute_error: 0.0671 - val_accuracy: 0.1220\n",
      "Epoch 26/200\n",
      "74/74 [==============================] - 3s 46ms/step - loss: 0.1260 - mean_absolute_error: 0.1260 - accuracy: 0.1467 - val_loss: 0.0604 - val_mean_absolute_error: 0.0604 - val_accuracy: 0.1463\n",
      "Epoch 27/200\n",
      "74/74 [==============================] - 3s 45ms/step - loss: 0.1228 - mean_absolute_error: 0.1228 - accuracy: 0.1562 - val_loss: 0.0583 - val_mean_absolute_error: 0.0583 - val_accuracy: 0.0976\n",
      "Epoch 28/200\n",
      "74/74 [==============================] - 4s 48ms/step - loss: 0.1248 - mean_absolute_error: 0.1248 - accuracy: 0.1343 - val_loss: 0.0583 - val_mean_absolute_error: 0.0583 - val_accuracy: 0.1220\n",
      "Epoch 29/200\n",
      "74/74 [==============================] - 3s 44ms/step - loss: 0.1201 - mean_absolute_error: 0.1201 - accuracy: 0.1331 - val_loss: 0.0571 - val_mean_absolute_error: 0.0571 - val_accuracy: 0.1463\n",
      "Epoch 30/200\n",
      "74/74 [==============================] - 3s 42ms/step - loss: 0.1201 - mean_absolute_error: 0.1201 - accuracy: 0.1451 - val_loss: 0.0637 - val_mean_absolute_error: 0.0637 - val_accuracy: 0.1220\n",
      "Epoch 31/200\n",
      "74/74 [==============================] - 3s 43ms/step - loss: 0.1205 - mean_absolute_error: 0.1205 - accuracy: 0.1141 - val_loss: 0.0561 - val_mean_absolute_error: 0.0561 - val_accuracy: 0.1463\n",
      "Epoch 32/200\n",
      "74/74 [==============================] - 3s 44ms/step - loss: 0.1214 - mean_absolute_error: 0.1214 - accuracy: 0.1490 - val_loss: 0.0624 - val_mean_absolute_error: 0.0624 - val_accuracy: 0.0488\n",
      "Epoch 33/200\n",
      "74/74 [==============================] - 3s 43ms/step - loss: 0.1233 - mean_absolute_error: 0.1233 - accuracy: 0.2009 - val_loss: 0.0641 - val_mean_absolute_error: 0.0641 - val_accuracy: 0.1951\n",
      "Epoch 34/200\n",
      "74/74 [==============================] - 3s 43ms/step - loss: 0.1232 - mean_absolute_error: 0.1232 - accuracy: 0.2111 - val_loss: 0.0610 - val_mean_absolute_error: 0.0610 - val_accuracy: 0.0732\n",
      "Epoch 35/200\n"
     ]
    },
    {
     "name": "stdout",
     "output_type": "stream",
     "text": [
      "74/74 [==============================] - 3s 44ms/step - loss: 0.1211 - mean_absolute_error: 0.1211 - accuracy: 0.1701 - val_loss: 0.0629 - val_mean_absolute_error: 0.0629 - val_accuracy: 0.0976\n",
      "Epoch 36/200\n",
      "74/74 [==============================] - 3s 43ms/step - loss: 0.1218 - mean_absolute_error: 0.1218 - accuracy: 0.1538 - val_loss: 0.0577 - val_mean_absolute_error: 0.0577 - val_accuracy: 0.1220\n",
      "Epoch 37/200\n",
      "74/74 [==============================] - 3s 42ms/step - loss: 0.1248 - mean_absolute_error: 0.1248 - accuracy: 0.1709 - val_loss: 0.0625 - val_mean_absolute_error: 0.0625 - val_accuracy: 0.1220\n",
      "Epoch 38/200\n",
      "74/74 [==============================] - 3s 44ms/step - loss: 0.1194 - mean_absolute_error: 0.1194 - accuracy: 0.1907 - val_loss: 0.0600 - val_mean_absolute_error: 0.0600 - val_accuracy: 0.1220\n",
      "Epoch 39/200\n",
      "74/74 [==============================] - 3s 42ms/step - loss: 0.1244 - mean_absolute_error: 0.1244 - accuracy: 0.1746 - val_loss: 0.0586 - val_mean_absolute_error: 0.0586 - val_accuracy: 0.0488\n",
      "Epoch 40/200\n",
      "74/74 [==============================] - 3s 42ms/step - loss: 0.1171 - mean_absolute_error: 0.1171 - accuracy: 0.1557 - val_loss: 0.0563 - val_mean_absolute_error: 0.0563 - val_accuracy: 0.0976\n",
      "Epoch 41/200\n",
      "74/74 [==============================] - 3s 43ms/step - loss: 0.1207 - mean_absolute_error: 0.1207 - accuracy: 0.1715 - val_loss: 0.0576 - val_mean_absolute_error: 0.0576 - val_accuracy: 0.1463\n",
      "Epoch 42/200\n",
      "74/74 [==============================] - 3s 43ms/step - loss: 0.1176 - mean_absolute_error: 0.1176 - accuracy: 0.1713 - val_loss: 0.0649 - val_mean_absolute_error: 0.0649 - val_accuracy: 0.1463\n",
      "Epoch 43/200\n",
      "74/74 [==============================] - 3s 42ms/step - loss: 0.1211 - mean_absolute_error: 0.1211 - accuracy: 0.1684 - val_loss: 0.0555 - val_mean_absolute_error: 0.0555 - val_accuracy: 0.0488\n",
      "Epoch 44/200\n",
      "74/74 [==============================] - 3s 42ms/step - loss: 0.1140 - mean_absolute_error: 0.1140 - accuracy: 0.1434 - val_loss: 0.0554 - val_mean_absolute_error: 0.0554 - val_accuracy: 0.0976\n",
      "Epoch 45/200\n",
      "74/74 [==============================] - 3s 44ms/step - loss: 0.1192 - mean_absolute_error: 0.1192 - accuracy: 0.1888 - val_loss: 0.0556 - val_mean_absolute_error: 0.0556 - val_accuracy: 0.0976\n",
      "Epoch 46/200\n",
      "74/74 [==============================] - 3s 42ms/step - loss: 0.1183 - mean_absolute_error: 0.1183 - accuracy: 0.1573 - val_loss: 0.0560 - val_mean_absolute_error: 0.0560 - val_accuracy: 0.0732\n",
      "Epoch 47/200\n",
      "74/74 [==============================] - 3s 43ms/step - loss: 0.1166 - mean_absolute_error: 0.1166 - accuracy: 0.1693 - val_loss: 0.0640 - val_mean_absolute_error: 0.0640 - val_accuracy: 0.0732\n",
      "Epoch 48/200\n",
      "74/74 [==============================] - 3s 45ms/step - loss: 0.1199 - mean_absolute_error: 0.1199 - accuracy: 0.1877 - val_loss: 0.0751 - val_mean_absolute_error: 0.0751 - val_accuracy: 0.0244\n",
      "Epoch 49/200\n",
      "74/74 [==============================] - 3s 42ms/step - loss: 0.1190 - mean_absolute_error: 0.1190 - accuracy: 0.1424 - val_loss: 0.0534 - val_mean_absolute_error: 0.0534 - val_accuracy: 0.0976\n",
      "Epoch 50/200\n",
      "74/74 [==============================] - 3s 42ms/step - loss: 0.1166 - mean_absolute_error: 0.1166 - accuracy: 0.1695 - val_loss: 0.0532 - val_mean_absolute_error: 0.0532 - val_accuracy: 0.0976\n",
      "Epoch 51/200\n",
      "74/74 [==============================] - 3s 44ms/step - loss: 0.1183 - mean_absolute_error: 0.1183 - accuracy: 0.1473 - val_loss: 0.0528 - val_mean_absolute_error: 0.0528 - val_accuracy: 0.1220\n",
      "Epoch 52/200\n",
      "74/74 [==============================] - 3s 43ms/step - loss: 0.1151 - mean_absolute_error: 0.1151 - accuracy: 0.1487 - val_loss: 0.0536 - val_mean_absolute_error: 0.0536 - val_accuracy: 0.1951\n",
      "Epoch 53/200\n",
      "74/74 [==============================] - 3s 42ms/step - loss: 0.1112 - mean_absolute_error: 0.1112 - accuracy: 0.1989 - val_loss: 0.0564 - val_mean_absolute_error: 0.0564 - val_accuracy: 0.1463\n",
      "Epoch 54/200\n",
      "74/74 [==============================] - 3s 42ms/step - loss: 0.1184 - mean_absolute_error: 0.1184 - accuracy: 0.1895 - val_loss: 0.0519 - val_mean_absolute_error: 0.0519 - val_accuracy: 0.0732\n",
      "Epoch 55/200\n",
      "74/74 [==============================] - 3s 44ms/step - loss: 0.1132 - mean_absolute_error: 0.1132 - accuracy: 0.1793 - val_loss: 0.0534 - val_mean_absolute_error: 0.0534 - val_accuracy: 0.0976\n",
      "Epoch 56/200\n",
      "74/74 [==============================] - 3s 42ms/step - loss: 0.1142 - mean_absolute_error: 0.1142 - accuracy: 0.1606 - val_loss: 0.0533 - val_mean_absolute_error: 0.0533 - val_accuracy: 0.0976\n",
      "Epoch 57/200\n",
      "74/74 [==============================] - 3s 42ms/step - loss: 0.1157 - mean_absolute_error: 0.1157 - accuracy: 0.1307 - val_loss: 0.0570 - val_mean_absolute_error: 0.0570 - val_accuracy: 0.1220\n",
      "Epoch 58/200\n",
      "74/74 [==============================] - 3s 44ms/step - loss: 0.1151 - mean_absolute_error: 0.1151 - accuracy: 0.2086 - val_loss: 0.0530 - val_mean_absolute_error: 0.0530 - val_accuracy: 0.0488\n",
      "Epoch 59/200\n",
      "74/74 [==============================] - 3s 41ms/step - loss: 0.1110 - mean_absolute_error: 0.1110 - accuracy: 0.1977 - val_loss: 0.0522 - val_mean_absolute_error: 0.0522 - val_accuracy: 0.0732\n",
      "Epoch 60/200\n",
      "74/74 [==============================] - 3s 44ms/step - loss: 0.1114 - mean_absolute_error: 0.1114 - accuracy: 0.2651 - val_loss: 0.0492 - val_mean_absolute_error: 0.0492 - val_accuracy: 0.0488\n",
      "Epoch 61/200\n",
      "74/74 [==============================] - 3s 44ms/step - loss: 0.1119 - mean_absolute_error: 0.1119 - accuracy: 0.1881 - val_loss: 0.0594 - val_mean_absolute_error: 0.0594 - val_accuracy: 0.0976\n",
      "Epoch 62/200\n",
      "74/74 [==============================] - 3s 43ms/step - loss: 0.1106 - mean_absolute_error: 0.1106 - accuracy: 0.2088 - val_loss: 0.0489 - val_mean_absolute_error: 0.0489 - val_accuracy: 0.0976\n",
      "Epoch 63/200\n",
      "74/74 [==============================] - 3s 43ms/step - loss: 0.1076 - mean_absolute_error: 0.1076 - accuracy: 0.2142 - val_loss: 0.0480 - val_mean_absolute_error: 0.0480 - val_accuracy: 0.0976\n",
      "Epoch 64/200\n",
      "74/74 [==============================] - 3s 42ms/step - loss: 0.1079 - mean_absolute_error: 0.1079 - accuracy: 0.2395 - val_loss: 0.0509 - val_mean_absolute_error: 0.0509 - val_accuracy: 0.0488\n",
      "Epoch 65/200\n",
      "74/74 [==============================] - 3s 43ms/step - loss: 0.1093 - mean_absolute_error: 0.1093 - accuracy: 0.1785 - val_loss: 0.0499 - val_mean_absolute_error: 0.0499 - val_accuracy: 0.0488\n",
      "Epoch 66/200\n",
      "74/74 [==============================] - 3s 43ms/step - loss: 0.1051 - mean_absolute_error: 0.1051 - accuracy: 0.2029 - val_loss: 0.0637 - val_mean_absolute_error: 0.0637 - val_accuracy: 0.0000e+00\n",
      "Epoch 67/200\n",
      "74/74 [==============================] - 3s 43ms/step - loss: 0.1073 - mean_absolute_error: 0.1073 - accuracy: 0.2271 - val_loss: 0.0535 - val_mean_absolute_error: 0.0535 - val_accuracy: 0.0732\n",
      "Epoch 68/200\n",
      "74/74 [==============================] - 3s 44ms/step - loss: 0.1051 - mean_absolute_error: 0.1051 - accuracy: 0.2448 - val_loss: 0.0510 - val_mean_absolute_error: 0.0510 - val_accuracy: 0.1220\n",
      "Epoch 69/200\n",
      "74/74 [==============================] - 3s 42ms/step - loss: 0.0994 - mean_absolute_error: 0.0994 - accuracy: 0.2403 - val_loss: 0.0659 - val_mean_absolute_error: 0.0659 - val_accuracy: 0.0244\n",
      "Epoch 70/200\n",
      "74/74 [==============================] - 3s 43ms/step - loss: 0.0945 - mean_absolute_error: 0.0945 - accuracy: 0.2377 - val_loss: 0.0536 - val_mean_absolute_error: 0.0536 - val_accuracy: 0.0976\n",
      "Epoch 71/200\n",
      "74/74 [==============================] - 3s 43ms/step - loss: 0.0975 - mean_absolute_error: 0.0975 - accuracy: 0.3140 - val_loss: 0.0632 - val_mean_absolute_error: 0.0632 - val_accuracy: 0.1220\n",
      "Epoch 72/200\n",
      "74/74 [==============================] - 3s 43ms/step - loss: 0.0943 - mean_absolute_error: 0.0943 - accuracy: 0.3036 - val_loss: 0.0589 - val_mean_absolute_error: 0.0589 - val_accuracy: 0.1220\n",
      "Epoch 73/200\n",
      "74/74 [==============================] - 3s 43ms/step - loss: 0.0885 - mean_absolute_error: 0.0885 - accuracy: 0.2554 - val_loss: 0.0515 - val_mean_absolute_error: 0.0515 - val_accuracy: 0.1220\n",
      "Epoch 74/200\n",
      "74/74 [==============================] - 3s 44ms/step - loss: 0.0902 - mean_absolute_error: 0.0902 - accuracy: 0.2714 - val_loss: 0.0577 - val_mean_absolute_error: 0.0577 - val_accuracy: 0.0732\n"
     ]
    },
    {
     "name": "stdout",
     "output_type": "stream",
     "text": [
      "Epoch 75/200\n",
      "74/74 [==============================] - 3s 43ms/step - loss: 0.0906 - mean_absolute_error: 0.0906 - accuracy: 0.2679 - val_loss: 0.0525 - val_mean_absolute_error: 0.0525 - val_accuracy: 0.0732\n",
      "Epoch 76/200\n",
      "74/74 [==============================] - 3s 42ms/step - loss: 0.0922 - mean_absolute_error: 0.0922 - accuracy: 0.2916 - val_loss: 0.0531 - val_mean_absolute_error: 0.0531 - val_accuracy: 0.1951\n",
      "Epoch 77/200\n",
      "74/74 [==============================] - 3s 42ms/step - loss: 0.0863 - mean_absolute_error: 0.0863 - accuracy: 0.2929 - val_loss: 0.0462 - val_mean_absolute_error: 0.0462 - val_accuracy: 0.1951\n",
      "Epoch 78/200\n",
      "74/74 [==============================] - 3s 43ms/step - loss: 0.0870 - mean_absolute_error: 0.0870 - accuracy: 0.3599 - val_loss: 0.0518 - val_mean_absolute_error: 0.0518 - val_accuracy: 0.0732\n",
      "Epoch 79/200\n",
      "74/74 [==============================] - 3s 41ms/step - loss: 0.0818 - mean_absolute_error: 0.0818 - accuracy: 0.3220 - val_loss: 0.0562 - val_mean_absolute_error: 0.0562 - val_accuracy: 0.0732\n",
      "Epoch 80/200\n",
      "74/74 [==============================] - 3s 42ms/step - loss: 0.0852 - mean_absolute_error: 0.0852 - accuracy: 0.3025 - val_loss: 0.0602 - val_mean_absolute_error: 0.0602 - val_accuracy: 0.0488\n",
      "Epoch 81/200\n",
      "74/74 [==============================] - 3s 44ms/step - loss: 0.0844 - mean_absolute_error: 0.0844 - accuracy: 0.3455 - val_loss: 0.0542 - val_mean_absolute_error: 0.0542 - val_accuracy: 0.0732\n",
      "Epoch 82/200\n",
      "74/74 [==============================] - 3s 42ms/step - loss: 0.0810 - mean_absolute_error: 0.0810 - accuracy: 0.3123 - val_loss: 0.0513 - val_mean_absolute_error: 0.0513 - val_accuracy: 0.0732\n",
      "Epoch 83/200\n",
      "74/74 [==============================] - 3s 42ms/step - loss: 0.0813 - mean_absolute_error: 0.0813 - accuracy: 0.3397 - val_loss: 0.0562 - val_mean_absolute_error: 0.0562 - val_accuracy: 0.1220\n",
      "Epoch 84/200\n",
      "74/74 [==============================] - 3s 43ms/step - loss: 0.0784 - mean_absolute_error: 0.0784 - accuracy: 0.3253 - val_loss: 0.0648 - val_mean_absolute_error: 0.0648 - val_accuracy: 0.0976\n",
      "Epoch 85/200\n",
      "74/74 [==============================] - 3s 43ms/step - loss: 0.0768 - mean_absolute_error: 0.0768 - accuracy: 0.2616 - val_loss: 0.0482 - val_mean_absolute_error: 0.0482 - val_accuracy: 0.0488\n",
      "Epoch 86/200\n",
      "74/74 [==============================] - 3s 43ms/step - loss: 0.0793 - mean_absolute_error: 0.0793 - accuracy: 0.3312 - val_loss: 0.0597 - val_mean_absolute_error: 0.0597 - val_accuracy: 0.1220\n",
      "Epoch 87/200\n",
      "74/74 [==============================] - 3s 43ms/step - loss: 0.0717 - mean_absolute_error: 0.0717 - accuracy: 0.3944 - val_loss: 0.0520 - val_mean_absolute_error: 0.0520 - val_accuracy: 0.0732\n",
      "Epoch 88/200\n",
      "74/74 [==============================] - 3s 44ms/step - loss: 0.0741 - mean_absolute_error: 0.0741 - accuracy: 0.3947 - val_loss: 0.0589 - val_mean_absolute_error: 0.0589 - val_accuracy: 0.0976\n",
      "Epoch 89/200\n",
      "74/74 [==============================] - 4s 48ms/step - loss: 0.0714 - mean_absolute_error: 0.0714 - accuracy: 0.4272 - val_loss: 0.0748 - val_mean_absolute_error: 0.0748 - val_accuracy: 0.0976\n",
      "Epoch 90/200\n",
      "74/74 [==============================] - 4s 51ms/step - loss: 0.0731 - mean_absolute_error: 0.0731 - accuracy: 0.3907 - val_loss: 0.0524 - val_mean_absolute_error: 0.0524 - val_accuracy: 0.0488\n",
      "Epoch 91/200\n",
      "74/74 [==============================] - 4s 52ms/step - loss: 0.0728 - mean_absolute_error: 0.0728 - accuracy: 0.3829 - val_loss: 0.0749 - val_mean_absolute_error: 0.0749 - val_accuracy: 0.0732\n",
      "Epoch 92/200\n",
      "74/74 [==============================] - 3s 44ms/step - loss: 0.0684 - mean_absolute_error: 0.0684 - accuracy: 0.4659 - val_loss: 0.0887 - val_mean_absolute_error: 0.0887 - val_accuracy: 0.1463\n",
      "Epoch 93/200\n",
      "74/74 [==============================] - 3s 43ms/step - loss: 0.0650 - mean_absolute_error: 0.0650 - accuracy: 0.4618 - val_loss: 0.0568 - val_mean_absolute_error: 0.0568 - val_accuracy: 0.1220\n",
      "Epoch 94/200\n",
      "74/74 [==============================] - 3s 44ms/step - loss: 0.0652 - mean_absolute_error: 0.0652 - accuracy: 0.4749 - val_loss: 0.0637 - val_mean_absolute_error: 0.0637 - val_accuracy: 0.0488\n",
      "Epoch 95/200\n",
      "74/74 [==============================] - 3s 43ms/step - loss: 0.0654 - mean_absolute_error: 0.0654 - accuracy: 0.4547 - val_loss: 0.0557 - val_mean_absolute_error: 0.0557 - val_accuracy: 0.1220\n",
      "Epoch 96/200\n",
      "74/74 [==============================] - 3s 42ms/step - loss: 0.0607 - mean_absolute_error: 0.0607 - accuracy: 0.5035 - val_loss: 0.0548 - val_mean_absolute_error: 0.0548 - val_accuracy: 0.1707\n",
      "Epoch 97/200\n",
      "74/74 [==============================] - 3s 44ms/step - loss: 0.0619 - mean_absolute_error: 0.0619 - accuracy: 0.4669 - val_loss: 0.0523 - val_mean_absolute_error: 0.0523 - val_accuracy: 0.0976\n",
      "Epoch 98/200\n",
      "74/74 [==============================] - 3s 43ms/step - loss: 0.0626 - mean_absolute_error: 0.0626 - accuracy: 0.4952 - val_loss: 0.0650 - val_mean_absolute_error: 0.0650 - val_accuracy: 0.0976\n",
      "Epoch 99/200\n",
      "74/74 [==============================] - 3s 43ms/step - loss: 0.0605 - mean_absolute_error: 0.0605 - accuracy: 0.4917 - val_loss: 0.0787 - val_mean_absolute_error: 0.0787 - val_accuracy: 0.0488\n",
      "Epoch 100/200\n",
      "74/74 [==============================] - 3s 44ms/step - loss: 0.0565 - mean_absolute_error: 0.0565 - accuracy: 0.5609 - val_loss: 0.0557 - val_mean_absolute_error: 0.0557 - val_accuracy: 0.1220\n",
      "Epoch 101/200\n",
      "74/74 [==============================] - 3s 43ms/step - loss: 0.0538 - mean_absolute_error: 0.0538 - accuracy: 0.5776 - val_loss: 0.0603 - val_mean_absolute_error: 0.0603 - val_accuracy: 0.0976\n",
      "Epoch 102/200\n",
      "74/74 [==============================] - 3s 43ms/step - loss: 0.0540 - mean_absolute_error: 0.0540 - accuracy: 0.5770 - val_loss: 0.0743 - val_mean_absolute_error: 0.0743 - val_accuracy: 0.0732\n",
      "Epoch 103/200\n",
      "74/74 [==============================] - 3s 44ms/step - loss: 0.0516 - mean_absolute_error: 0.0516 - accuracy: 0.6045 - val_loss: 0.0525 - val_mean_absolute_error: 0.0525 - val_accuracy: 0.1220\n",
      "Epoch 104/200\n",
      "74/74 [==============================] - 3s 44ms/step - loss: 0.0512 - mean_absolute_error: 0.0512 - accuracy: 0.6077 - val_loss: 0.0784 - val_mean_absolute_error: 0.0784 - val_accuracy: 0.1220\n",
      "Epoch 105/200\n",
      "74/74 [==============================] - 3s 43ms/step - loss: 0.0488 - mean_absolute_error: 0.0488 - accuracy: 0.6306 - val_loss: 0.0546 - val_mean_absolute_error: 0.0546 - val_accuracy: 0.0732\n",
      "Epoch 106/200\n",
      "74/74 [==============================] - 3s 43ms/step - loss: 0.0482 - mean_absolute_error: 0.0482 - accuracy: 0.6498 - val_loss: 0.0636 - val_mean_absolute_error: 0.0636 - val_accuracy: 0.0976\n",
      "Epoch 107/200\n",
      "74/74 [==============================] - 3s 44ms/step - loss: 0.0473 - mean_absolute_error: 0.0473 - accuracy: 0.6385 - val_loss: 0.0595 - val_mean_absolute_error: 0.0595 - val_accuracy: 0.1707\n",
      "Epoch 108/200\n",
      "74/74 [==============================] - 3s 43ms/step - loss: 0.0459 - mean_absolute_error: 0.0459 - accuracy: 0.7142 - val_loss: 0.0681 - val_mean_absolute_error: 0.0681 - val_accuracy: 0.0976\n",
      "Epoch 109/200\n",
      "74/74 [==============================] - 3s 43ms/step - loss: 0.0413 - mean_absolute_error: 0.0413 - accuracy: 0.7029 - val_loss: 0.0827 - val_mean_absolute_error: 0.0827 - val_accuracy: 0.1707\n",
      "Epoch 110/200\n",
      "74/74 [==============================] - 3s 45ms/step - loss: 0.0410 - mean_absolute_error: 0.0410 - accuracy: 0.7200 - val_loss: 0.0690 - val_mean_absolute_error: 0.0690 - val_accuracy: 0.1220\n",
      "Epoch 111/200\n",
      "74/74 [==============================] - 3s 43ms/step - loss: 0.0418 - mean_absolute_error: 0.0418 - accuracy: 0.7119 - val_loss: 0.0513 - val_mean_absolute_error: 0.0513 - val_accuracy: 0.0976\n",
      "Epoch 112/200\n",
      "74/74 [==============================] - 3s 44ms/step - loss: 0.0395 - mean_absolute_error: 0.0395 - accuracy: 0.7725 - val_loss: 0.0633 - val_mean_absolute_error: 0.0633 - val_accuracy: 0.0488\n",
      "Epoch 113/200\n",
      "74/74 [==============================] - 3s 45ms/step - loss: 0.0391 - mean_absolute_error: 0.0391 - accuracy: 0.7441 - val_loss: 0.0664 - val_mean_absolute_error: 0.0664 - val_accuracy: 0.0732\n",
      "Epoch 114/200\n"
     ]
    },
    {
     "name": "stdout",
     "output_type": "stream",
     "text": [
      "74/74 [==============================] - 3s 43ms/step - loss: 0.0383 - mean_absolute_error: 0.0383 - accuracy: 0.7444 - val_loss: 0.0577 - val_mean_absolute_error: 0.0577 - val_accuracy: 0.0976\n",
      "Epoch 115/200\n",
      "74/74 [==============================] - 3s 42ms/step - loss: 0.0387 - mean_absolute_error: 0.0387 - accuracy: 0.7360 - val_loss: 0.0635 - val_mean_absolute_error: 0.0635 - val_accuracy: 0.0732\n",
      "Epoch 116/200\n",
      "74/74 [==============================] - 3s 43ms/step - loss: 0.0356 - mean_absolute_error: 0.0356 - accuracy: 0.7806 - val_loss: 0.0690 - val_mean_absolute_error: 0.0690 - val_accuracy: 0.0976\n",
      "Epoch 117/200\n",
      "74/74 [==============================] - 3s 42ms/step - loss: 0.0341 - mean_absolute_error: 0.0341 - accuracy: 0.7945 - val_loss: 0.0479 - val_mean_absolute_error: 0.0479 - val_accuracy: 0.1220\n",
      "Epoch 118/200\n",
      "74/74 [==============================] - 3s 45ms/step - loss: 0.0330 - mean_absolute_error: 0.0330 - accuracy: 0.7815 - val_loss: 0.0563 - val_mean_absolute_error: 0.0563 - val_accuracy: 0.0976\n",
      "Epoch 119/200\n",
      "74/74 [==============================] - 3s 42ms/step - loss: 0.0331 - mean_absolute_error: 0.0331 - accuracy: 0.7975 - val_loss: 0.0572 - val_mean_absolute_error: 0.0572 - val_accuracy: 0.0732\n",
      "Epoch 120/200\n",
      "74/74 [==============================] - 3s 43ms/step - loss: 0.0313 - mean_absolute_error: 0.0313 - accuracy: 0.7795 - val_loss: 0.0565 - val_mean_absolute_error: 0.0565 - val_accuracy: 0.0976\n",
      "Epoch 121/200\n",
      "74/74 [==============================] - 3s 43ms/step - loss: 0.0303 - mean_absolute_error: 0.0303 - accuracy: 0.8063 - val_loss: 0.0791 - val_mean_absolute_error: 0.0791 - val_accuracy: 0.0488\n",
      "Epoch 122/200\n",
      "74/74 [==============================] - 3s 43ms/step - loss: 0.0340 - mean_absolute_error: 0.0340 - accuracy: 0.8014 - val_loss: 0.0557 - val_mean_absolute_error: 0.0557 - val_accuracy: 0.0976\n",
      "Epoch 123/200\n",
      "74/74 [==============================] - 3s 45ms/step - loss: 0.0297 - mean_absolute_error: 0.0297 - accuracy: 0.8334 - val_loss: 0.0633 - val_mean_absolute_error: 0.0633 - val_accuracy: 0.1220\n",
      "Epoch 124/200\n",
      "74/74 [==============================] - 3s 44ms/step - loss: 0.0302 - mean_absolute_error: 0.0302 - accuracy: 0.7808 - val_loss: 0.0732 - val_mean_absolute_error: 0.0732 - val_accuracy: 0.0732\n",
      "Epoch 125/200\n",
      "74/74 [==============================] - 3s 43ms/step - loss: 0.0320 - mean_absolute_error: 0.0320 - accuracy: 0.8364 - val_loss: 0.0667 - val_mean_absolute_error: 0.0667 - val_accuracy: 0.1951\n",
      "Epoch 126/200\n",
      "74/74 [==============================] - 3s 45ms/step - loss: 0.0293 - mean_absolute_error: 0.0293 - accuracy: 0.8236 - val_loss: 0.0572 - val_mean_absolute_error: 0.0572 - val_accuracy: 0.0488\n",
      "Epoch 127/200\n",
      "74/74 [==============================] - 3s 42ms/step - loss: 0.0276 - mean_absolute_error: 0.0276 - accuracy: 0.8789 - val_loss: 0.0651 - val_mean_absolute_error: 0.0651 - val_accuracy: 0.1463\n",
      "Epoch 128/200\n",
      "74/74 [==============================] - 3s 43ms/step - loss: 0.0285 - mean_absolute_error: 0.0285 - accuracy: 0.8642 - val_loss: 0.0639 - val_mean_absolute_error: 0.0639 - val_accuracy: 0.1463\n",
      "Epoch 129/200\n",
      "74/74 [==============================] - 3s 43ms/step - loss: 0.0286 - mean_absolute_error: 0.0286 - accuracy: 0.8515 - val_loss: 0.0507 - val_mean_absolute_error: 0.0507 - val_accuracy: 0.1463\n",
      "Epoch 130/200\n",
      "74/74 [==============================] - 3s 43ms/step - loss: 0.0261 - mean_absolute_error: 0.0261 - accuracy: 0.8999 - val_loss: 0.0694 - val_mean_absolute_error: 0.0694 - val_accuracy: 0.1463\n",
      "Epoch 131/200\n",
      "74/74 [==============================] - 3s 43ms/step - loss: 0.0268 - mean_absolute_error: 0.0268 - accuracy: 0.8882 - val_loss: 0.0572 - val_mean_absolute_error: 0.0572 - val_accuracy: 0.1707\n",
      "Epoch 132/200\n",
      "74/74 [==============================] - 3s 43ms/step - loss: 0.0259 - mean_absolute_error: 0.0259 - accuracy: 0.8486 - val_loss: 0.0586 - val_mean_absolute_error: 0.0586 - val_accuracy: 0.0244\n",
      "Epoch 133/200\n",
      "74/74 [==============================] - 3s 44ms/step - loss: 0.0252 - mean_absolute_error: 0.0252 - accuracy: 0.8571 - val_loss: 0.0722 - val_mean_absolute_error: 0.0722 - val_accuracy: 0.0488\n",
      "Epoch 134/200\n",
      "74/74 [==============================] - 3s 43ms/step - loss: 0.0250 - mean_absolute_error: 0.0250 - accuracy: 0.8778 - val_loss: 0.0582 - val_mean_absolute_error: 0.0582 - val_accuracy: 0.1463\n",
      "Epoch 135/200\n",
      "74/74 [==============================] - 3s 43ms/step - loss: 0.0253 - mean_absolute_error: 0.0253 - accuracy: 0.8981 - val_loss: 0.0680 - val_mean_absolute_error: 0.0680 - val_accuracy: 0.1707\n",
      "Epoch 136/200\n",
      "74/74 [==============================] - 3s 45ms/step - loss: 0.0245 - mean_absolute_error: 0.0245 - accuracy: 0.8840 - val_loss: 0.0584 - val_mean_absolute_error: 0.0584 - val_accuracy: 0.1220\n",
      "Epoch 137/200\n",
      "74/74 [==============================] - 3s 43ms/step - loss: 0.0247 - mean_absolute_error: 0.0247 - accuracy: 0.8751 - val_loss: 0.0743 - val_mean_absolute_error: 0.0743 - val_accuracy: 0.0976\n",
      "Epoch 138/200\n",
      "74/74 [==============================] - 3s 43ms/step - loss: 0.0234 - mean_absolute_error: 0.0234 - accuracy: 0.8694 - val_loss: 0.0667 - val_mean_absolute_error: 0.0667 - val_accuracy: 0.0976\n",
      "Epoch 139/200\n",
      "74/74 [==============================] - 3s 44ms/step - loss: 0.0230 - mean_absolute_error: 0.0230 - accuracy: 0.8978 - val_loss: 0.0718 - val_mean_absolute_error: 0.0718 - val_accuracy: 0.0976\n",
      "Epoch 140/200\n",
      "74/74 [==============================] - 3s 44ms/step - loss: 0.0252 - mean_absolute_error: 0.0252 - accuracy: 0.8782 - val_loss: 0.0663 - val_mean_absolute_error: 0.0663 - val_accuracy: 0.1463\n",
      "Epoch 141/200\n",
      "74/74 [==============================] - 3s 43ms/step - loss: 0.0240 - mean_absolute_error: 0.0240 - accuracy: 0.8759 - val_loss: 0.0543 - val_mean_absolute_error: 0.0543 - val_accuracy: 0.0244\n",
      "Epoch 142/200\n",
      "74/74 [==============================] - 3s 44ms/step - loss: 0.0226 - mean_absolute_error: 0.0226 - accuracy: 0.8782 - val_loss: 0.0671 - val_mean_absolute_error: 0.0671 - val_accuracy: 0.1220\n",
      "Epoch 143/200\n",
      "74/74 [==============================] - 3s 44ms/step - loss: 0.0230 - mean_absolute_error: 0.0230 - accuracy: 0.8490 - val_loss: 0.0697 - val_mean_absolute_error: 0.0697 - val_accuracy: 0.0976\n",
      "Epoch 144/200\n",
      "74/74 [==============================] - 3s 43ms/step - loss: 0.0257 - mean_absolute_error: 0.0257 - accuracy: 0.8883 - val_loss: 0.0616 - val_mean_absolute_error: 0.0616 - val_accuracy: 0.0732\n",
      "Epoch 145/200\n",
      "74/74 [==============================] - 3s 43ms/step - loss: 0.0229 - mean_absolute_error: 0.0229 - accuracy: 0.8470 - val_loss: 0.0664 - val_mean_absolute_error: 0.0664 - val_accuracy: 0.1951\n",
      "Epoch 146/200\n",
      "74/74 [==============================] - 3s 44ms/step - loss: 0.0231 - mean_absolute_error: 0.0231 - accuracy: 0.8835 - val_loss: 0.0640 - val_mean_absolute_error: 0.0640 - val_accuracy: 0.0244\n",
      "Epoch 147/200\n",
      "74/74 [==============================] - 3s 43ms/step - loss: 0.0216 - mean_absolute_error: 0.0216 - accuracy: 0.9132 - val_loss: 0.0665 - val_mean_absolute_error: 0.0665 - val_accuracy: 0.1220\n",
      "Epoch 148/200\n",
      "74/74 [==============================] - 3s 43ms/step - loss: 0.0204 - mean_absolute_error: 0.0204 - accuracy: 0.8587 - val_loss: 0.0659 - val_mean_absolute_error: 0.0659 - val_accuracy: 0.1463\n",
      "Epoch 149/200\n",
      "74/74 [==============================] - 3s 44ms/step - loss: 0.0206 - mean_absolute_error: 0.0206 - accuracy: 0.8876 - val_loss: 0.0699 - val_mean_absolute_error: 0.0699 - val_accuracy: 0.1220\n",
      "Epoch 150/200\n",
      "74/74 [==============================] - 3s 43ms/step - loss: 0.0223 - mean_absolute_error: 0.0223 - accuracy: 0.8940 - val_loss: 0.0588 - val_mean_absolute_error: 0.0588 - val_accuracy: 0.0976\n",
      "Epoch 151/200\n",
      "74/74 [==============================] - 3s 44ms/step - loss: 0.0203 - mean_absolute_error: 0.0203 - accuracy: 0.9069 - val_loss: 0.0753 - val_mean_absolute_error: 0.0753 - val_accuracy: 0.1220\n",
      "Epoch 152/200\n",
      "74/74 [==============================] - 3s 44ms/step - loss: 0.0232 - mean_absolute_error: 0.0232 - accuracy: 0.8472 - val_loss: 0.0628 - val_mean_absolute_error: 0.0628 - val_accuracy: 0.0976\n",
      "Epoch 153/200\n"
     ]
    },
    {
     "name": "stdout",
     "output_type": "stream",
     "text": [
      "74/74 [==============================] - 3s 43ms/step - loss: 0.0218 - mean_absolute_error: 0.0218 - accuracy: 0.9214 - val_loss: 0.0651 - val_mean_absolute_error: 0.0651 - val_accuracy: 0.2195\n",
      "Epoch 154/200\n",
      "74/74 [==============================] - 3s 43ms/step - loss: 0.0206 - mean_absolute_error: 0.0206 - accuracy: 0.8907 - val_loss: 0.0566 - val_mean_absolute_error: 0.0566 - val_accuracy: 0.0976\n",
      "Epoch 155/200\n",
      "74/74 [==============================] - 3s 44ms/step - loss: 0.0192 - mean_absolute_error: 0.0192 - accuracy: 0.9435 - val_loss: 0.0570 - val_mean_absolute_error: 0.0570 - val_accuracy: 0.1707\n",
      "Epoch 156/200\n",
      "74/74 [==============================] - 3s 44ms/step - loss: 0.0186 - mean_absolute_error: 0.0186 - accuracy: 0.9258 - val_loss: 0.0604 - val_mean_absolute_error: 0.0604 - val_accuracy: 0.1220\n",
      "Epoch 157/200\n",
      "74/74 [==============================] - 3s 42ms/step - loss: 0.0199 - mean_absolute_error: 0.0199 - accuracy: 0.9239 - val_loss: 0.0671 - val_mean_absolute_error: 0.0671 - val_accuracy: 0.1707\n",
      "Epoch 158/200\n",
      "74/74 [==============================] - 3s 43ms/step - loss: 0.0218 - mean_absolute_error: 0.0218 - accuracy: 0.8986 - val_loss: 0.0678 - val_mean_absolute_error: 0.0678 - val_accuracy: 0.2439\n",
      "Epoch 159/200\n",
      "74/74 [==============================] - 3s 44ms/step - loss: 0.0214 - mean_absolute_error: 0.0214 - accuracy: 0.9014 - val_loss: 0.0695 - val_mean_absolute_error: 0.0695 - val_accuracy: 0.0976\n",
      "Epoch 160/200\n",
      "74/74 [==============================] - 3s 43ms/step - loss: 0.0179 - mean_absolute_error: 0.0179 - accuracy: 0.9150 - val_loss: 0.0742 - val_mean_absolute_error: 0.0742 - val_accuracy: 0.1951\n",
      "Epoch 161/200\n",
      "74/74 [==============================] - 3s 42ms/step - loss: 0.0190 - mean_absolute_error: 0.0190 - accuracy: 0.9436 - val_loss: 0.0566 - val_mean_absolute_error: 0.0566 - val_accuracy: 0.1951\n",
      "Epoch 162/200\n",
      "74/74 [==============================] - 3s 43ms/step - loss: 0.0186 - mean_absolute_error: 0.0186 - accuracy: 0.9418 - val_loss: 0.0642 - val_mean_absolute_error: 0.0642 - val_accuracy: 0.1707\n",
      "Epoch 163/200\n",
      "74/74 [==============================] - 3s 43ms/step - loss: 0.0204 - mean_absolute_error: 0.0204 - accuracy: 0.9218 - val_loss: 0.0706 - val_mean_absolute_error: 0.0706 - val_accuracy: 0.2439\n",
      "Epoch 164/200\n",
      "74/74 [==============================] - 3s 43ms/step - loss: 0.0208 - mean_absolute_error: 0.0208 - accuracy: 0.9198 - val_loss: 0.0736 - val_mean_absolute_error: 0.0736 - val_accuracy: 0.2195\n",
      "Epoch 165/200\n",
      "74/74 [==============================] - 3s 44ms/step - loss: 0.0202 - mean_absolute_error: 0.0202 - accuracy: 0.8941 - val_loss: 0.0751 - val_mean_absolute_error: 0.0751 - val_accuracy: 0.1220\n",
      "Epoch 166/200\n",
      "74/74 [==============================] - 3s 43ms/step - loss: 0.0184 - mean_absolute_error: 0.0184 - accuracy: 0.9186 - val_loss: 0.0657 - val_mean_absolute_error: 0.0657 - val_accuracy: 0.2927\n",
      "Epoch 167/200\n",
      "74/74 [==============================] - 3s 43ms/step - loss: 0.0196 - mean_absolute_error: 0.0196 - accuracy: 0.8988 - val_loss: 0.0681 - val_mean_absolute_error: 0.0681 - val_accuracy: 0.2195\n",
      "Epoch 168/200\n",
      "74/74 [==============================] - 3s 43ms/step - loss: 0.0193 - mean_absolute_error: 0.0193 - accuracy: 0.9219 - val_loss: 0.0613 - val_mean_absolute_error: 0.0613 - val_accuracy: 0.1463\n",
      "Epoch 169/200\n",
      "74/74 [==============================] - 3s 44ms/step - loss: 0.0196 - mean_absolute_error: 0.0196 - accuracy: 0.9169 - val_loss: 0.0780 - val_mean_absolute_error: 0.0780 - val_accuracy: 0.1707\n",
      "Epoch 170/200\n",
      "74/74 [==============================] - 3s 44ms/step - loss: 0.0190 - mean_absolute_error: 0.0190 - accuracy: 0.9141 - val_loss: 0.0598 - val_mean_absolute_error: 0.0598 - val_accuracy: 0.2927\n",
      "Epoch 171/200\n",
      "74/74 [==============================] - 3s 43ms/step - loss: 0.0195 - mean_absolute_error: 0.0195 - accuracy: 0.9104 - val_loss: 0.0650 - val_mean_absolute_error: 0.0650 - val_accuracy: 0.2195\n",
      "Epoch 172/200\n",
      "74/74 [==============================] - 3s 44ms/step - loss: 0.0166 - mean_absolute_error: 0.0166 - accuracy: 0.9142 - val_loss: 0.0748 - val_mean_absolute_error: 0.0748 - val_accuracy: 0.1951\n",
      "Epoch 173/200\n",
      "74/74 [==============================] - 3s 43ms/step - loss: 0.0175 - mean_absolute_error: 0.0175 - accuracy: 0.9266 - val_loss: 0.0697 - val_mean_absolute_error: 0.0697 - val_accuracy: 0.2683\n",
      "Epoch 174/200\n",
      "74/74 [==============================] - 3s 43ms/step - loss: 0.0182 - mean_absolute_error: 0.0182 - accuracy: 0.9299 - val_loss: 0.0695 - val_mean_absolute_error: 0.0695 - val_accuracy: 0.1463\n",
      "Epoch 175/200\n",
      "74/74 [==============================] - 3s 44ms/step - loss: 0.0171 - mean_absolute_error: 0.0171 - accuracy: 0.9279 - val_loss: 0.0730 - val_mean_absolute_error: 0.0730 - val_accuracy: 0.1707\n",
      "Epoch 176/200\n",
      "74/74 [==============================] - 3s 45ms/step - loss: 0.0187 - mean_absolute_error: 0.0187 - accuracy: 0.9302 - val_loss: 0.0632 - val_mean_absolute_error: 0.0632 - val_accuracy: 0.1951\n",
      "Epoch 177/200\n",
      "74/74 [==============================] - 3s 42ms/step - loss: 0.0195 - mean_absolute_error: 0.0195 - accuracy: 0.9068 - val_loss: 0.0706 - val_mean_absolute_error: 0.0706 - val_accuracy: 0.2927\n",
      "Epoch 178/200\n",
      "74/74 [==============================] - 3s 45ms/step - loss: 0.0178 - mean_absolute_error: 0.0178 - accuracy: 0.9310 - val_loss: 0.0655 - val_mean_absolute_error: 0.0655 - val_accuracy: 0.2195\n",
      "Epoch 179/200\n",
      "74/74 [==============================] - 3s 44ms/step - loss: 0.0180 - mean_absolute_error: 0.0180 - accuracy: 0.9373 - val_loss: 0.0601 - val_mean_absolute_error: 0.0601 - val_accuracy: 0.1707\n",
      "Epoch 180/200\n",
      "74/74 [==============================] - 3s 44ms/step - loss: 0.0179 - mean_absolute_error: 0.0179 - accuracy: 0.8940 - val_loss: 0.0638 - val_mean_absolute_error: 0.0638 - val_accuracy: 0.1951\n",
      "Epoch 181/200\n",
      "74/74 [==============================] - 3s 44ms/step - loss: 0.0182 - mean_absolute_error: 0.0182 - accuracy: 0.9647 - val_loss: 0.0768 - val_mean_absolute_error: 0.0768 - val_accuracy: 0.2439\n",
      "Epoch 182/200\n",
      "74/74 [==============================] - 3s 43ms/step - loss: 0.0170 - mean_absolute_error: 0.0170 - accuracy: 0.9176 - val_loss: 0.0708 - val_mean_absolute_error: 0.0708 - val_accuracy: 0.1951\n",
      "Epoch 00182: early stopping\n"
     ]
    }
   ],
   "source": [
    "model = lstm_model(X_train.shape)\n",
    "callback = EarlyStopping(monitor=\"mean_absolute_error\", patience=10, verbose=1, mode=\"auto\")\n",
    "history = model.fit(X_train, Y_train, epochs=200, batch_size=5, validation_split=0.1, callbacks=[callback],shuffle=True)"
   ]
  },
  {
   "cell_type": "code",
   "execution_count": 21,
   "id": "according-distributor",
   "metadata": {},
   "outputs": [],
   "source": [
    "model.save('my_model.h5')"
   ]
  },
  {
   "cell_type": "code",
   "execution_count": 18,
   "id": "acute-howard",
   "metadata": {},
   "outputs": [
    {
     "data": {
      "image/png": "[encoded data removed]",
      "text/plain": [
       "<Figure size 432x288 with 1 Axes>"
      ]
     },
     "metadata": {
      "needs_background": "light"
     },
     "output_type": "display_data"
    }
   ],
   "source": [
    "import matplotlib.pyplot as plt\n",
    "plt.plot(history.history['loss'])\n",
    "plt.plot(history.history['val_loss'])\n",
    "plt.show()"
   ]
  },
  {
   "cell_type": "code",
   "execution_count": 19,
   "id": "asian-diana",
   "metadata": {},
   "outputs": [
    {
     "name": "stdout",
     "output_type": "stream",
     "text": [
      "(446, 1)\n"
     ]
    }
   ],
   "source": [
    "print(train_norm.shape)"
   ]
  },
  {
   "cell_type": "code",
   "execution_count": 20,
   "id": "blessed-british",
   "metadata": {},
   "outputs": [
    {
     "name": "stdout",
     "output_type": "stream",
     "text": [
      "[[0.19958693 0.24699923 0.21507698 0.17275988 0.1231887  0.18758735\n",
      "  0.13288654 0.10224235]]\n",
      "[[3206.8372 3340.3027 3250.4417 3131.3188 2991.7761 3173.0583 3019.0757\n",
      "  2932.8123]]\n"
     ]
    }
   ],
   "source": [
    "Predict1 = model.predict(np.array(train_norm[416:446]).reshape((1,30,1)))\n",
    "print(Predict1)\n",
    "trainPredict = scaler.inverse_transform(Predict1)\n",
    "print(trainPredict)"
   ]
  },
  {
   "cell_type": "code",
   "execution_count": 15,
   "id": "nonprofit-adult",
   "metadata": {},
   "outputs": [],
   "source": [
    "model = load_model('my_model.h5')"
   ]
  },
  {
   "cell_type": "code",
   "execution_count": null,
   "id": "sublime-catering",
   "metadata": {},
   "outputs": [],
   "source": []
  },
  {
   "cell_type": "code",
   "execution_count": 24,
   "id": "embedded-diana",
   "metadata": {},
   "outputs": [
    {
     "name": "stdout",
     "output_type": "stream",
     "text": [
      "[[0.19958693 0.24699923 0.21507698 0.17275988 0.1231887  0.18758735\n",
      "  0.13288654 0.10224235]]\n",
      "[[3206.8372 3340.3027 3250.4417 3131.3188 2991.7761 3173.0583 3019.0757\n",
      "  2932.8123]]\n"
     ]
    }
   ],
   "source": [
    "result = model.predict(np.array(train_norm[416:446]).reshape((1,30,1)))\n",
    "print(result)\n",
    "real_result = scaler.inverse_transform(result)\n",
    "print(real_result)"
   ]
  },
  {
   "cell_type": "code",
   "execution_count": 25,
   "id": "seven-package",
   "metadata": {},
   "outputs": [
    {
     "data": {
      "text/plain": [
       "3340.3027"
      ]
     },
     "execution_count": 25,
     "metadata": {},
     "output_type": "execute_result"
    }
   ],
   "source": [
    "real_result[0][1]"
   ]
  },
  {
   "cell_type": "code",
   "execution_count": 26,
   "id": "daily-thanksgiving",
   "metadata": {},
   "outputs": [],
   "source": [
    "f = open('submission.csv', 'w')\n",
    "print(\"date,operating_reserve(MW)\", file=f)\n",
    "for i in range(1, 7):\n",
    "    print(f\"2021032{i+2},{int(real_result[0][i])}\", file=f)\n",
    "print(f\"20210329,{int(real_result[0][7])}\", file=f, end=\"\")"
   ]
  },
  {
   "cell_type": "code",
   "execution_count": 27,
   "id": "unlike-cholesterol",
   "metadata": {},
   "outputs": [],
   "source": [
    "f.close()"
   ]
  },
  {
   "cell_type": "code",
   "execution_count": null,
   "id": "instructional-latin",
   "metadata": {},
   "outputs": [],
   "source": []
  }
 ],
 "metadata": {
  "kernelspec": {
   "display_name": "Python 3",
   "language": "python",
   "name": "python3"
  },
  "language_info": {
   "codemirror_mode": {
    "name": "ipython",
    "version": 3
   },
   "file_extension": ".py",
   "mimetype": "text/x-python",
   "name": "python",
   "nbconvert_exporter": "python",
   "pygments_lexer": "ipython3",
   "version": "3.6.13"
  }
 },
 "nbformat": 4,
 "nbformat_minor": 5
}
